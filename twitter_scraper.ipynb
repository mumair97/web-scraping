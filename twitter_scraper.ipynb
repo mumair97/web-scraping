{
 "cells": [
  {
   "attachments": {},
   "cell_type": "markdown",
   "metadata": {},
   "source": [
    "# Tweets Scrapping using Pandas"
   ]
  },
  {
   "cell_type": "code",
   "execution_count": 6,
   "metadata": {},
   "outputs": [],
   "source": [
    "# pip install snscrape"
   ]
  },
  {
   "cell_type": "code",
   "execution_count": 7,
   "metadata": {},
   "outputs": [],
   "source": [
    "import snscrape.modules.twitter as sntwitter\n",
    "import pandas as pd"
   ]
  },
  {
   "cell_type": "code",
   "execution_count": 8,
   "metadata": {},
   "outputs": [
    {
     "name": "stderr",
     "output_type": "stream",
     "text": [
      "C:\\Users\\muham\\AppData\\Local\\Temp\\ipykernel_20820\\2212044045.py:5: FutureWarning: content is deprecated, use rawContent instead\n",
      "  tweets_list.append([tweet.date, tweet.id, tweet.content, tweet.user.username])\n",
      "C:\\Users\\muham\\AppData\\Local\\Temp\\ipykernel_20820\\2212044045.py:9: FutureWarning: content is deprecated, use rawContent instead\n",
      "  tweets_list.append([tweet.date, tweet.id, tweet.content, tweet.user.username])\n"
     ]
    }
   ],
   "source": [
    "limit = 100 # limit the number of tweets to be scraped\n",
    "tweets_list = [] # list to store tweets\n",
    "\n",
    "for tweet in sntwitter.TwitterSearchScraper('bitcoin since:2020-01-01 until:2021-01-01').get_items():  ## search for tweets with the keyword bitcoin\n",
    "    tweets_list.append([tweet.date, tweet.id, tweet.content, tweet.user.username])\n",
    "    if len(tweets_list) > limit:\n",
    "        break\n",
    "    else:\n",
    "        tweets_list.append([tweet.date, tweet.id, tweet.content, tweet.user.username])"
   ]
  },
  {
   "cell_type": "code",
   "execution_count": 9,
   "metadata": {},
   "outputs": [
    {
     "name": "stdout",
     "output_type": "stream",
     "text": [
      "                   Datetime             Tweet Id  \\\n",
      "0 2020-12-31 23:59:57+00:00  1344795459857096709   \n",
      "1 2020-12-31 23:59:57+00:00  1344795459857096709   \n",
      "2 2020-12-31 23:59:57+00:00  1344795459215368193   \n",
      "3 2020-12-31 23:59:57+00:00  1344795459215368193   \n",
      "4 2020-12-31 23:59:55+00:00  1344795453402075136   \n",
      "5 2020-12-31 23:59:55+00:00  1344795453402075136   \n",
      "6 2020-12-31 23:59:55+00:00  1344795450000486401   \n",
      "7 2020-12-31 23:59:55+00:00  1344795450000486401   \n",
      "8 2020-12-31 23:59:49+00:00  1344795425300119553   \n",
      "9 2020-12-31 23:59:49+00:00  1344795425300119553   \n",
      "\n",
      "                                                Text         Username  \n",
      "0  @cryptoworld202 It's to have Bitcoin because I...        job_focus  \n",
      "1  @cryptoworld202 It's to have Bitcoin because I...        job_focus  \n",
      "2  Un concessionnaire de voitures de luxe devient...  LaCryptoMonnai1  \n",
      "3  Un concessionnaire de voitures de luxe devient...  LaCryptoMonnai1  \n",
      "4  My only hope for 2021 is that more people real...  TheIRAFinancial  \n",
      "5  My only hope for 2021 is that more people real...  TheIRAFinancial  \n",
      "6  #Investing 1017.4% in this optimal #crypto por...   CryptoWatchBot  \n",
      "7  #Investing 1017.4% in this optimal #crypto por...   CryptoWatchBot  \n",
      "8  @spraggy Its because #Bitcoin is at all time h...     ispLashcrans  \n",
      "9  @spraggy Its because #Bitcoin is at all time h...     ispLashcrans  \n"
     ]
    }
   ],
   "source": [
    "df = pd.DataFrame(tweets_list, columns=['Datetime', 'Tweet Id', 'Text', 'Username'])\n",
    "print(df.head(10))"
   ]
  },
  {
   "cell_type": "code",
   "execution_count": null,
   "metadata": {},
   "outputs": [],
   "source": []
  }
 ],
 "metadata": {
  "kernelspec": {
   "display_name": "Python 3",
   "language": "python",
   "name": "python3"
  },
  "language_info": {
   "codemirror_mode": {
    "name": "ipython",
    "version": 3
   },
   "file_extension": ".py",
   "mimetype": "text/x-python",
   "name": "python",
   "nbconvert_exporter": "python",
   "pygments_lexer": "ipython3",
   "version": "3.10.7"
  },
  "orig_nbformat": 4,
  "vscode": {
   "interpreter": {
    "hash": "f5d970ce3a869c424d840219ec304347cecc96c42e1b8d72b3facc8cee4d3a35"
   }
  }
 },
 "nbformat": 4,
 "nbformat_minor": 2
}
